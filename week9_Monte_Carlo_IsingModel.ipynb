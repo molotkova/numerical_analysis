{
  "nbformat": 4,
  "nbformat_minor": 0,
  "metadata": {
    "kernelspec": {
      "display_name": "Python 3",
      "language": "python",
      "name": "python3"
    },
    "language_info": {
      "codemirror_mode": {
        "name": "ipython",
        "version": 3
      },
      "file_extension": ".py",
      "mimetype": "text/x-python",
      "name": "python",
      "nbconvert_exporter": "python",
      "pygments_lexer": "ipython3",
      "version": "3.7.6"
    },
    "colab": {
      "name": "week9_Monte-Carlo_IsingModel.ipynb",
      "provenance": [],
      "collapsed_sections": []
    }
  },
  "cells": [
    {
      "cell_type": "markdown",
      "metadata": {
        "id": "ku0wYyMxy66a",
        "colab_type": "text"
      },
      "source": [
        "# Метод Монте-Карло в физике"
      ]
    },
    {
      "cell_type": "markdown",
      "metadata": {
        "id": "0RdPhagMy66h",
        "colab_type": "text"
      },
      "source": [
        "Методами Монте-Карло называют множество различных методов в совершенно разных областях от физики до экономики. Основная суть этих методов заключается в использовании случайных величин для получения различных состояний исследуемой системы. "
      ]
    },
    {
      "cell_type": "markdown",
      "metadata": {
        "id": "JFQGUD__y66k",
        "colab_type": "text"
      },
      "source": [
        "Одно из частых применений метода Монте-Карло в физике состоит в расчете интегралов. При этом действительно полезным и незаменимым метод становится при работе с большим количеством измерений, когда построение обычных квадратур приводит к чересчур  огромным сеткам. Например, уже в случае 10 измерений, задание обычной равномерной решетки шириной в $2^4 = 16$ узлов, приводит к общей сетке размера $2^{40} \\simeq 10^{12}$. Массив данных float такого размера будет занимать 4ТБ в памяти компьютера. Оперировать такими интегралами стандартными методами становится принципиально невозможно."
      ]
    },
    {
      "cell_type": "code",
      "metadata": {
        "id": "AkccU13JzD5r",
        "colab_type": "code",
        "outputId": "dd4f35a5-0846-4a5d-ec2f-f0738d0a0bb9",
        "colab": {
          "base_uri": "https://localhost:8080/",
          "height": 117
        }
      },
      "source": [
        "!pip install sobol_seq "
      ],
      "execution_count": 1,
      "outputs": [
        {
          "output_type": "stream",
          "text": [
            "Collecting sobol_seq\n",
            "  Downloading https://files.pythonhosted.org/packages/e4/df/6c4ad25c0b48545a537b631030f7de7e4abb939e6d2964ac2169d4379c85/sobol_seq-0.2.0-py3-none-any.whl\n",
            "Requirement already satisfied: scipy in /usr/local/lib/python3.6/dist-packages (from sobol_seq) (1.4.1)\n",
            "Requirement already satisfied: numpy in /usr/local/lib/python3.6/dist-packages (from sobol_seq) (1.18.4)\n",
            "Installing collected packages: sobol-seq\n",
            "Successfully installed sobol-seq-0.2.0\n"
          ],
          "name": "stdout"
        }
      ]
    },
    {
      "cell_type": "code",
      "metadata": {
        "id": "SW0BzbBXy66o",
        "colab_type": "code",
        "outputId": "99dd952a-1a45-4580-fce1-bd5425f1b79b",
        "colab": {
          "base_uri": "https://localhost:8080/",
          "height": 50
        }
      },
      "source": [
        "import numpy as np\n",
        "import matplotlib.pyplot as plt\n",
        "import scipy.special as sp\n",
        "import sobol_seq\n",
        "import seaborn as sns\n",
        "from numpy import linalg as LA\n",
        "from math import pi\n",
        "\n",
        "plt.style.use('ggplot')\n",
        "%matplotlib notebook\n",
        "%matplotlib inline"
      ],
      "execution_count": 2,
      "outputs": [
        {
          "output_type": "stream",
          "text": [
            "/usr/local/lib/python3.6/dist-packages/statsmodels/tools/_testing.py:19: FutureWarning: pandas.util.testing is deprecated. Use the functions in the public API at pandas.testing instead.\n",
            "  import pandas.util.testing as tm\n"
          ],
          "name": "stderr"
        }
      ]
    },
    {
      "cell_type": "markdown",
      "metadata": {
        "id": "L9xqGbGSy66_",
        "colab_type": "text"
      },
      "source": [
        "## Задание 1\n",
        "Вычислим объем многомерной сферы в большом количестве измерений."
      ]
    },
    {
      "cell_type": "markdown",
      "metadata": {
        "id": "yQ84fwAZy67D",
        "colab_type": "text"
      },
      "source": [
        "### Задание 1.1 \n",
        "Напишите функцию, вычисляющую точный объем $d$-мерной сферы с помощью явного выражения. \n",
        "Объем многомерной сферы радиуса $R$ в $d$-измерениях дается формулой: \n",
        "$$\n",
        "V_d = \\frac{\\pi^{d/2}} {\\Gamma(1 + d/2)}\n",
        "$$\n",
        "где $\\Gamma(x)$ - гамма функция, значение которой можно получить из scipy.special."
      ]
    },
    {
      "cell_type": "code",
      "metadata": {
        "id": "_2YN5fqcy67F",
        "colab_type": "code",
        "colab": {}
      },
      "source": [
        "def getSphereVolumeExact(D, R = 1.0):\n",
        "    \"\"\"\n",
        "    Функция вычисляет значение объема D-мерной сферы радиуса R по явной формуле\n",
        "\n",
        "    --------\n",
        "    Аргументы:\n",
        "    D - int, количество измерений\n",
        "    R = 1 - float, радиус сферы\n",
        "    --------\n",
        "    Функция возвращает:\n",
        "    V - float, объем сферы\n",
        "    \"\"\"\n",
        "\n",
        "    V = pi**(D/2) / sp.gamma(1 + D/2) * R**D\n",
        "    return V"
      ],
      "execution_count": 0,
      "outputs": []
    },
    {
      "cell_type": "markdown",
      "metadata": {
        "id": "yJmT9JA6y67T",
        "colab_type": "text"
      },
      "source": [
        "1. Проверьте результат для нескольких известных вам значений. \n",
        "2. Построите график V(D)"
      ]
    },
    {
      "cell_type": "code",
      "metadata": {
        "id": "SSMOAqbYy67V",
        "colab_type": "code",
        "outputId": "34b19530-ed96-4770-deb4-5b3c6ecb1b4c",
        "colab": {
          "base_uri": "https://localhost:8080/",
          "height": 332
        }
      },
      "source": [
        "R = 2\n",
        "# check for 2D & 3D \n",
        "print('2D, difference with the formula:{}'.\n",
        "      format(pi * R**2 - getSphereVolumeExact(2, R))) #formula: pi*R^2\n",
        "print('3D, difference with the formula:{}'.\n",
        "      format(4/3 * pi * R**3 - getSphereVolumeExact(3, R))) #formula: 4/3*pi*R^3\n",
        "\n",
        "plt.figure()\n",
        "D_list = [getSphereVolumeExact(D) for D in range(1, 15)]\n",
        "plt.plot(range(1, 15), D_list, '-o')\n",
        "plt.xlabel('D, num of dimensions')\n",
        "plt.ylabel('V(D)')"
      ],
      "execution_count": 4,
      "outputs": [
        {
          "output_type": "stream",
          "text": [
            "2D, difference with the formula:0.0\n",
            "3D, difference with the formula:-7.105427357601002e-15\n"
          ],
          "name": "stdout"
        },
        {
          "output_type": "execute_result",
          "data": {
            "text/plain": [
              "Text(0, 0.5, 'V(D)')"
            ]
          },
          "metadata": {
            "tags": []
          },
          "execution_count": 4
        },
        {
          "output_type": "display_data",
          "data": {
            "image/png": "[encoded data removed]",
            "text/plain": [
              "<Figure size 432x288 with 1 Axes>"
            ]
          },
          "metadata": {
            "tags": [],
            "needs_background": "light"
          }
        }
      ]
    },
    {
      "cell_type": "markdown",
      "metadata": {
        "id": "MEYuqaiLy67d",
        "colab_type": "text"
      },
      "source": [
        "### Задание 1.2\n",
        "Напишите функцию, вычисляющую объем сферы методом Монте-Карло на псевдослучайных числах (используя, например `numpy.random.rand`)."
      ]
    },
    {
      "cell_type": "code",
      "metadata": {
        "id": "-dvycciJy67f",
        "colab_type": "code",
        "colab": {}
      },
      "source": [
        "def getSphereVolumePseudorandom(N, D, R = 1.0):\n",
        "    \"\"\"\n",
        "    Функция вычисляет значение объема D-мерной сферы радиуса R методом Монте-Кало на псевдослучайных числах\n",
        "\n",
        "    --------\n",
        "    Аргументы:\n",
        "    N - int, количество случайных точек\n",
        "    D - int, количество измерений\n",
        "    R = 1 - float, радиус сферы\n",
        "    --------\n",
        "    Функция возвращает:\n",
        "    V - float, объем сферы\n",
        "    \"\"\"\n",
        "    dots = np.random.uniform(-R, R, (D, N))\n",
        "    r = np.array([LA.norm(dots.T[i]) for i in range(dots.shape[1])])\n",
        "    inside = (r < R).astype(int)\n",
        "    V = (2*R)**D * np.mean(inside)\n",
        "    return V"
      ],
      "execution_count": 0,
      "outputs": []
    },
    {
      "cell_type": "markdown",
      "metadata": {
        "id": "CBHn87Vay67l",
        "colab_type": "text"
      },
      "source": [
        "Постройте график зависимости относительной точности $\\epsilon$ которая достигается при фиксированном $N$ от размерности сферы $D$. Для относительной точности используйте выражение $\\epsilon = (V_{exact} - V_{random})/V_{exact}$."
      ]
    },
    {
      "cell_type": "code",
      "metadata": {
        "id": "Ns8QPvWky67m",
        "colab_type": "code",
        "outputId": "fac751ad-d8b2-4ff8-b293-0a989ddcb9c8",
        "colab": {
          "base_uri": "https://localhost:8080/",
          "height": 313
        }
      },
      "source": [
        "plt.figure()\n",
        "eps = []\n",
        "MC = []\n",
        "N = 1000000\n",
        "for D in range(1, 15):\n",
        "    exact = getSphereVolumeExact(D, R=2)\n",
        "    eps.append((exact - getSphereVolumePseudorandom(N, D, R=2)) / exact)\n",
        "plt.plot(range(1, 15), eps, '-o')\n",
        "plt.ylabel('Relative error of the Monte Carlo method')\n",
        "plt.xlabel('D, num of dimensions')"
      ],
      "execution_count": 6,
      "outputs": [
        {
          "output_type": "execute_result",
          "data": {
            "text/plain": [
              "Text(0.5, 0, 'D, num of dimensions')"
            ]
          },
          "metadata": {
            "tags": []
          },
          "execution_count": 6
        },
        {
          "output_type": "display_data",
          "data": {
            "image/png": "[encoded data removed]",
            "text/plain": [
              "<Figure size 432x288 with 1 Axes>"
            ]
          },
          "metadata": {
            "tags": [],
            "needs_background": "light"
          }
        }
      ]
    },
    {
      "cell_type": "markdown",
      "metadata": {
        "id": "vqAjN6R5y67t",
        "colab_type": "text"
      },
      "source": [
        "### Задание 1.3\n",
        "Напишите функцию, вычисляющую объем сферы методом Монте-Карло на квазислучайной последовательности Соболя.\n",
        "\n",
        "Для установки библиотеки `sobol_seq`:\n",
        "\n",
        "\n",
        "выполните `pip install sobol_seq` в Jupyter или\n",
        "\n",
        "выполните команду `pip install sobol_seq --user` в командном окне (если вы используете Jupyter Notebook в составе Anaconda откройте Anaconda Prompt и выполните команду pip в ней, после чего перезапустите Jupyter Notebook).\n"
      ]
    },
    {
      "cell_type": "markdown",
      "metadata": {
        "id": "-ewOoowNy674",
        "colab_type": "text"
      },
      "source": [
        "Используйте функцию `i4_sobol_generate`. Документацию по ней можно получить выполнив следующую строчку кода:"
      ]
    },
    {
      "cell_type": "code",
      "metadata": {
        "id": "81Kr3Wmay675",
        "colab_type": "code",
        "colab": {}
      },
      "source": [
        "sobol_seq.i4_sobol_generate?"
      ],
      "execution_count": 0,
      "outputs": []
    },
    {
      "cell_type": "code",
      "metadata": {
        "id": "gX8lQ0Qly68B",
        "colab_type": "code",
        "colab": {}
      },
      "source": [
        "def getSphereVolumeQuasirandom(N, D, R = 1):\n",
        "    \"\"\"\n",
        "    Функция вычисляет значение объема D-мерной сферы радиуса R методом Монте-Кало на квазислучайных числах\n",
        "\n",
        "    --------\n",
        "    Аргументы:\n",
        "    N - int, количество случайных точек\n",
        "    D - int, количество измерений\n",
        "    R = 1 - float, радиус сферы\n",
        "    --------\n",
        "    Функция возвращает:\n",
        "    V - float, объем сферы\n",
        "    \"\"\"\n",
        "    random = np.array(sobol_seq.i4_sobol_generate(D, N))\n",
        "    dots = (random - 0.5) * 2 * R\n",
        "    r = np.array([LA.norm(dots[i]) for i in range(dots.shape[0])])\n",
        "    inside = (r < R).astype(int)\n",
        "    V = (2 * R) ** D * np.mean(inside)\n",
        "    return V"
      ],
      "execution_count": 0,
      "outputs": []
    },
    {
      "cell_type": "markdown",
      "metadata": {
        "id": "5S4fJMI_y68H",
        "colab_type": "text"
      },
      "source": [
        "Сравните точность вычисления объема для квазислучайной и псевдослучайной последовательностей, рассчитав  $\\epsilon(D)$, при таком же значении $N$, как в предыдущем задании. Постройте обе зависимости $\\epsilon(D)$ на одном графике в логарифмической шкале по $\\epsilon$."
      ]
    },
    {
      "cell_type": "code",
      "metadata": {
        "id": "tZIyzzMPy68I",
        "colab_type": "code",
        "outputId": "54694849-235f-4276-d55a-56c2e091e673",
        "colab": {
          "base_uri": "https://localhost:8080/",
          "height": 313
        }
      },
      "source": [
        "plt.figure()\n",
        "eps_P = []\n",
        "eps_Q = []\n",
        "N = 1000000\n",
        "for D in range(1, 15):\n",
        "    exact = getSphereVolumeExact(D, R=2)\n",
        "    eps_P.append(abs(exact - getSphereVolumePseudorandom(N, D, R=2)) / exact)\n",
        "    eps_Q.append(abs(exact - getSphereVolumeQuasirandom(N, D, R=2)) / exact)\n",
        "plt.plot(range(1, 15), eps_P, '-o', label='Pseudorandom')\n",
        "plt.plot(range(1, 15), eps_Q, '-o', label='Quasirandom')\n",
        "plt.ylabel('Relative error of the Monte Carlo method')\n",
        "plt.xlabel('D, num of dimensions')\n",
        "plt.legend()"
      ],
      "execution_count": 8,
      "outputs": [
        {
          "output_type": "execute_result",
          "data": {
            "text/plain": [
              "<matplotlib.legend.Legend at 0x7f7c5309b0f0>"
            ]
          },
          "metadata": {
            "tags": []
          },
          "execution_count": 8
        },
        {
          "output_type": "display_data",
          "data": {
            "image/png": "[encoded data removed]",
            "text/plain": [
              "<Figure size 432x288 with 1 Axes>"
            ]
          },
          "metadata": {
            "tags": [],
            "needs_background": "light"
          }
        }
      ]
    },
    {
      "cell_type": "markdown",
      "metadata": {
        "id": "hZZNFBRN2gaF",
        "colab_type": "text"
      },
      "source": [
        "Видно, что при больших размерностях ошибка увеличивается + метод Монте-Карло точнее работает на квазислучайной последовательности. Посмотрим в увеличенном масштабе, что происходит при $D < 10$."
      ]
    },
    {
      "cell_type": "code",
      "metadata": {
        "id": "rd5tllZLs53p",
        "colab_type": "code",
        "colab": {
          "base_uri": "https://localhost:8080/",
          "height": 313
        },
        "outputId": "a088434e-78c2-4ddf-fa0d-e805b8048ca1"
      },
      "source": [
        "plt.figure()\n",
        "eps_P = []\n",
        "eps_Q = []\n",
        "N = 1000000\n",
        "for D in range(1, 10):\n",
        "    exact = getSphereVolumeExact(D, R=2)\n",
        "    eps_P.append(abs(exact - getSphereVolumePseudorandom(N, D, R=2)) / exact)\n",
        "    eps_Q.append(abs(exact - getSphereVolumeQuasirandom(N, D, R=2)) / exact)\n",
        "plt.plot(range(1, 10), eps_P, '-o', label='Pseudorandom')\n",
        "plt.plot(range(1, 10), eps_Q, '-o', label='Quasirandom')\n",
        "plt.yscale('log')\n",
        "plt.ylabel('Relative error of the Monte Carlo method')\n",
        "plt.xlabel('D, num of dimensions')\n",
        "plt.legend()"
      ],
      "execution_count": 19,
      "outputs": [
        {
          "output_type": "execute_result",
          "data": {
            "text/plain": [
              "<matplotlib.legend.Legend at 0x7f7c50009c18>"
            ]
          },
          "metadata": {
            "tags": []
          },
          "execution_count": 19
        },
        {
          "output_type": "display_data",
          "data": {
            "image/png": "[encoded data removed]",
            "text/plain": [
              "<Figure size 432x288 with 1 Axes>"
            ]
          },
          "metadata": {
            "tags": [],
            "needs_background": "light"
          }
        }
      ]
    },
    {
      "cell_type": "markdown",
      "metadata": {
        "id": "1TAYfYpqy68P",
        "colab_type": "text"
      },
      "source": [
        "**Про псевдо- и квазислучайные последовательности:** квазислучайная последовательность точек, сгенерированных внутри ограниченного объёма, более равномерно заполняет пространство (точки реже накладываются друг на друга) по сравнению с псевдослучайной последовательностью. Поэтому на квазислучайной последовательности метод Монте-Карло работает *немного точнее.*\n",
        "\n",
        "Классная визуализация случайных последовательностей в начале поста по ссылке: https://habr.com/ru/post/440892/"
      ]
    },
    {
      "cell_type": "markdown",
      "metadata": {
        "id": "JVC2VSvRy68Z",
        "colab_type": "text"
      },
      "source": [
        "## Задание 2\n",
        "\n",
        "Рассмотрим решетку $n\\times n$, в которой каждой ячейке соответствует спин $\\sigma_i$ равный $+1$ или $-1$. При этом между соседними ячейками существует энергия взаимодействия\n",
        "$$\n",
        "E_i = -J \\sigma_i \\sigma_j\n",
        "$$\n",
        "Тогда энергия каждой ячейки \n",
        "$$\n",
        "E_i = -J \\sigma_i \\sum_j \\sigma_j\n",
        "$$\n",
        "где суммирование подразумевается только по соседним с $i$-ой ячейкой.\n",
        "\n",
        "При нулевой температуре энергитически более выгодным состоянием является состояние, когда все спины одинаково ориентированы. Однако при ненулевой температуре вероятность перехода в более возбужденное состояние пропорциональна $\\sim \\exp(-\\Delta E/ k T)$.\n",
        "\n",
        "Явное численное моделирование такой системы (модели Изинга) является проблематичным, поскольку количество возможных состояний системы $2^N$, где $N$ - общее число узлов, и уже для двумерной сетки $16\\times 16$ это число становится астрономически большим. "
      ]
    },
    {
      "cell_type": "markdown",
      "metadata": {
        "id": "ovZc2_Kxy68b",
        "colab_type": "text"
      },
      "source": [
        "На помощь приходят методы Монте-Карло. Одна из простейших его реализаций (алгоритм Метрополиса — Гастингса):\n",
        "1. Задаем случайное начальное состояние\n",
        "2. Выбираем случайную ячейку\n",
        "3. Переворачиваем её спин и считаем изменение энергии $\\delta E$ данной ячейки.\n",
        "4. Если изменение энергии отрицательное, оставляем спин перевернутым\n",
        "5. Если изменение энергии положительное, оставляем спин перевернутым с вероятностью $\\exp(-\\delta E/kT)$\n",
        "6. Повторяем пункты 2-5 нужное количество раз\n",
        "\n",
        "Спустя достаточно большое количество повторений устанавливается равновесное состояние. "
      ]
    },
    {
      "cell_type": "markdown",
      "metadata": {
        "id": "lwrfXbFty68c",
        "colab_type": "text"
      },
      "source": [
        "Реализуем данный алгоритм: \n",
        "1. Задайте начальное случайное расраспределение в виде матрицы из $+1$ и $-1$ размерности $N\\times N$:"
      ]
    },
    {
      "cell_type": "code",
      "metadata": {
        "id": "Bb872V7zy68d",
        "colab_type": "code",
        "colab": {}
      },
      "source": [
        "def getInitialState(N):\n",
        "    '''\n",
        "    Функция задает случайное начальное состояние\n",
        "    ---------\n",
        "    Аргументы:\n",
        "    N - int, линейный размер решетки \n",
        "    --------\n",
        "    Функция возвращает:\n",
        "    state - numpy ndarray of ints, массив состояния системы размера NxN\n",
        "    '''\n",
        "    np.random.seed(12345)\n",
        "    state = np.random.randint(-1, 1, size=(N, N))\n",
        "    state[state > -1] = 1\n",
        "    return state"
      ],
      "execution_count": 0,
      "outputs": []
    },
    {
      "cell_type": "markdown",
      "metadata": {
        "id": "pIl8jJvLy68l",
        "colab_type": "text"
      },
      "source": [
        "2. Напишите функцию, которая для ячейки $(i,j)$ расчитывает изменение её энергии, если изменить её знак. При этом для простоты предполагаем, во-первых, что $J=1$ (на него отнормируем kT), и во-вторых, что элементы находящиеся на верхней и нижней (левой и правой) границах находятся рядом друг с другом (топология тора).  \n"
      ]
    },
    {
      "cell_type": "code",
      "metadata": {
        "id": "crYz8X0yy68m",
        "colab_type": "code",
        "colab": {}
      },
      "source": [
        "def getDeltaE(i, j, state):\n",
        "    '''\n",
        "    Функция расчитывает и возвращает изменение энергии ячейки (i,j) в случае ее переворота (не меняя состояния state)\n",
        "    \n",
        "    ---------\n",
        "    Аргументы:\n",
        "    i - int, адресс ячейки вдоль оси 0\n",
        "    j - int, адресс ячейки вдоль оси 1\n",
        "    state - numpy ndarray of ints, массив состояния системы размера NxN\n",
        "    --------\n",
        "    Функция возвращает:\n",
        "    dE - float, изменение энергии\n",
        "    '''\n",
        "    N = state.shape[0] - 1\n",
        "    row_up = i+1\n",
        "    col_right = j+1\n",
        "    if i == N: row_up = 0 # i+1 -> 0\n",
        "    if j == N: col_right = 0 # j+1 -> 0\n",
        "    initial_energy = -state[i, j] * (state[i, j-1] + state[i, col_right]\n",
        "                                 + state[i-1, j] + state[row_up, j])\n",
        "    new_energy = -1 * initial_energy\n",
        "    dE = new_energy - initial_energy\n",
        "    return dE"
      ],
      "execution_count": 0,
      "outputs": []
    },
    {
      "cell_type": "markdown",
      "metadata": {
        "id": "NR6QSKZMy68t",
        "colab_type": "text"
      },
      "source": [
        "3. Напишите функцию, которая $N^2$ раз для разных случайных $(i,j)$ меняет спин в зависимости от изменения энергии, согласно пунктам 4. и 5. "
      ]
    },
    {
      "cell_type": "code",
      "metadata": {
        "id": "K7gixUCKy68u",
        "colab_type": "code",
        "colab": {}
      },
      "source": [
        "def makeFlip(T, state):\n",
        "    '''\n",
        "    Функция N^2 раз переворачивает спин, и принимает решение оставить его перевернутым или нет, согласно правилам 4. и 5.\n",
        "\n",
        "    ---------\n",
        "    Аргументы:\n",
        "    T - float, положительное число, безразмерный коэфициент, характеризующий температуру, равный kT/J\n",
        "    state - numpy ndarray of ints, массив состояния системы размера NxN\n",
        "    --------\n",
        "    Функция возвращает:\n",
        "    state - numpy ndarray of ints, массив нового состояния системы размера NxN\n",
        "    '''\n",
        "    N = state.shape[0]\n",
        "    for _ in range(N ** 2):\n",
        "        i, j = np.random.randint(0, N, 2)\n",
        "        dE = getDeltaE(i, j, state)\n",
        "        if dE < 0:\n",
        "            state[i, j] *= -1\n",
        "        elif np.random.rand() < np.exp(-dE / T):\n",
        "            state[i, j] *= -1\n",
        "    return state"
      ],
      "execution_count": 0,
      "outputs": []
    },
    {
      "cell_type": "markdown",
      "metadata": {
        "id": "WuIERb8by68z",
        "colab_type": "text"
      },
      "source": [
        "4. Напишите функцию, которая будет рассчитывать значение энергии всей системы (предполагаем $J=1$)."
      ]
    },
    {
      "cell_type": "code",
      "metadata": {
        "id": "nlB9Qq3Iy681",
        "colab_type": "code",
        "colab": {}
      },
      "source": [
        "def getEnergy(state):\n",
        "    '''\n",
        "    Функция, рассчитывает значение энергии всей системы\n",
        "    ---------\n",
        "    Аргументы:\n",
        "    state - numpy ndarray of ints, массив состояния системы размера NxN\n",
        "    --------\n",
        "    Функция возвращает:\n",
        "    E - float, значение энергии системы\n",
        "    '''\n",
        "    N = state.shape[0]\n",
        "    E = 0\n",
        "    for i in range(N):\n",
        "        for j in range(N):\n",
        "            row_up = i + 1\n",
        "            col_right = j + 1\n",
        "            if i == N - 1: row_up = 0  # i+1 -> 0\n",
        "            if j == N - 1: col_right = 0  # j+1 -> 0\n",
        "            energy = -state[i, j] * (state[i, j - 1] + state[i, col_right]\n",
        "                                     + state[i - 1, j] + state[row_up, j])\n",
        "            E += energy\n",
        "    return E/2 # в цикле по каждой ячейке энергия взаимодействия соседей была учтена дважды"
      ],
      "execution_count": 0,
      "outputs": []
    },
    {
      "cell_type": "markdown",
      "metadata": {
        "id": "4icA20hyy687",
        "colab_type": "text"
      },
      "source": [
        "5. Напишите функцию, которая будет рассчитывать значение намагниченности всей системы $M=\\sum \\sigma$"
      ]
    },
    {
      "cell_type": "code",
      "metadata": {
        "id": "q9mgniKzy688",
        "colab_type": "code",
        "colab": {}
      },
      "source": [
        "def getMagnetization(state):    \n",
        "    '''\n",
        "    Функция, рассчитывает значение намагниченности всей системы\n",
        "    ---------\n",
        "    Аргументы:\n",
        "    state - numpy ndarray of ints, массив состояния системы размера NxN\n",
        "    --------\n",
        "    Функция возвращает:\n",
        "    M - float, значение намагниченности системы\n",
        "    '''\n",
        "    M = np.sum(state)\n",
        "    return M"
      ],
      "execution_count": 0,
      "outputs": []
    },
    {
      "cell_type": "markdown",
      "metadata": {
        "id": "1f4z4F33y69B",
        "colab_type": "text"
      },
      "source": [
        "В следующей ячейке кода зададим начальные параметры: \n",
        "\n",
        "**Nt** - количество точек по температуре, \n",
        "\n",
        "**N** - линейный размер решетки, \n",
        "\n",
        "**eqStep** - количество попыток переворота спина, в течение которых система приводится к равновесному сосотоянию. Обратите внимание, что это число должно увеличиваться пропорционально размеру всей сетки,\n",
        "\n",
        "**steps** - количество попыток переворота спина, в течение которых рассчитывается значения энергии и намагниченности (нужно для усреднения расчитанных значений по ансамблю состояний, близких к равновесному)"
      ]
    },
    {
      "cell_type": "code",
      "metadata": {
        "id": "RAmR3NhXy69C",
        "colab_type": "code",
        "colab": {}
      },
      "source": [
        "N       = 10         # размер решетки NxN\n",
        "Nt      = 10         # количество точек температуры\n",
        "eqSteps = 150        # количество раз выполнения makeFlip для установления равновесия\n",
        "steps   = 30         # количество раз выполнения makeFlip для усреднения энергии и намагниченности\n",
        "\n",
        "T = np.linspace(0.5, 5, Nt); \n",
        "E, M = np.zeros(Nt), np.zeros(Nt)"
      ],
      "execution_count": 0,
      "outputs": []
    },
    {
      "cell_type": "code",
      "metadata": {
        "id": "F11dq5f-y69L",
        "colab_type": "code",
        "outputId": "0133d75f-e9fe-4a44-a868-c53209ade207",
        "colab": {
          "base_uri": "https://localhost:8080/",
          "height": 337
        }
      },
      "source": [
        "for t in range(Nt):\n",
        "    #print(\"Complete\", t/Nt*100, '%\\r')\n",
        "    \n",
        "    Esum = Msum = 0\n",
        "    state = getInitialState(N)\n",
        "    \n",
        "    for i in range(eqSteps):         # установление статистического равновесия\n",
        "        makeFlip(T[t], state)          \n",
        "\n",
        "    for i in range(steps):           # суммирование по разным состояниям близким к равновеснсому\n",
        "        makeFlip(T[t], state)          \n",
        "        Esum += getEnergy(state)       \n",
        "        Msum += getMagnetization(state) \n",
        "\n",
        "    E[t] = Esum / (steps * N * N)\n",
        "    M[t] = Msum / (steps * N * N)\n",
        "\n",
        "#print(\"Done              \\r\")\n",
        "\n",
        "_, ax = plt.subplots(1,2,figsize=(10, 5))\n",
        "\n",
        "ax[0].scatter(T, E)\n",
        "ax[0].set_xlabel(\"Temperature\")\n",
        "ax[0].set_ylabel(\"Energy \")\n",
        "\n",
        "ax[1].scatter(T, abs(M), color = 'blue')\n",
        "ax[1].set_xlabel(\"Temperature\")\n",
        "ax[1].set_ylabel(\"Magnetization \")\n",
        "plt.show()"
      ],
      "execution_count": 16,
      "outputs": [
        {
          "output_type": "display_data",
          "data": {
            "image/png": "[encoded data removed]",
            "text/plain": [
              "<Figure size 720x360 with 2 Axes>"
            ]
          },
          "metadata": {
            "tags": [],
            "needs_background": "light"
          }
        }
      ]
    },
    {
      "cell_type": "markdown",
      "metadata": {
        "id": "w0dIvuhXy69R",
        "colab_type": "text"
      },
      "source": [
        "Интерпретируйте с точки зрения физики полученные графики. Описывают ли они поведение ферромагнетиков и фазовые переходы?\n",
        "\n",
        "На графиках видно, что с увеличением температуры энергия системы увеличивается (что естественно ожидается).\n",
        "\n",
        "При маленькой темепратуре система обладает намагниченностью, которая с ростом температуры практически пропадает. Это соответствует *поведению ферромагнетика*, вещества, которое при определённой температуре (температуре ниже критической) *способно обладать намагниченностью в отсутствии внешнего магнитного поля*.\n",
        "\n",
        "Строго говоря, фазовый переход второго рода - это скачкообразное изменение параметра системы, которое возможно при стремлении числа частиц к бесконечности. В нашем случае число частиц конечно, поэтому на графике изменения намагниченности вместо скачка имеет место довольно резкое, но всё же постепенное изменение параметра. Процесс приближённо можно считать фазовым переходом \"ферромагнетик — парамагнетик\". (источник: https://mipt.ru/upload/medialibrary/352/12_ishkhanyan_117_123.pdf)"
      ]
    },
    {
      "cell_type": "markdown",
      "metadata": {
        "id": "uHEiDd7Dy69Y",
        "colab_type": "text"
      },
      "source": [
        "Задайте новое состояние системы с достаточно большим $N$ и визуализируйте его думя цветами (например с помощью `plt.scatter`). Примените несколько раз к этому сосотоянию функциию makeFlip с низкой и с высокой температурами. Объясните наблюдаемое."
      ]
    },
    {
      "cell_type": "code",
      "metadata": {
        "id": "zCatuzuQy69Z",
        "colab_type": "code",
        "colab": {}
      },
      "source": [
        "N = 64\n",
        "state = getInitialState(N)"
      ],
      "execution_count": 0,
      "outputs": []
    },
    {
      "cell_type": "code",
      "metadata": {
        "id": "yD6bxUO1y69d",
        "colab_type": "code",
        "outputId": "cd5fc45e-81c5-44de-b492-9ec139ca9ca1",
        "colab": {
          "base_uri": "https://localhost:8080/",
          "height": 271
        }
      },
      "source": [
        "sns.heatmap(state, xticklabels=False, yticklabels=False)\n",
        "plt.title('Initial state')\n",
        "plt.show()"
      ],
      "execution_count": 0,
      "outputs": [
        {
          "output_type": "display_data",
          "data": {
            "image/png": "[encoded data removed]",
            "text/plain": [
              "<Figure size 432x288 with 2 Axes>"
            ]
          },
          "metadata": {
            "tags": [],
            "needs_background": "light"
          }
        }
      ]
    },
    {
      "cell_type": "code",
      "metadata": {
        "id": "CKsov5ssaVUx",
        "colab_type": "code",
        "outputId": "8b21520f-984a-48b1-bea4-850b0d1579fe",
        "colab": {
          "base_uri": "https://localhost:8080/",
          "height": 271
        }
      },
      "source": [
        "T = 10\n",
        "for i in range(eqSteps):\n",
        "  makeFlip(T, state)\n",
        "sns.heatmap(state, xticklabels=False, yticklabels=False)\n",
        "plt.title('State with temperature T = 10')\n",
        "plt.show()"
      ],
      "execution_count": 0,
      "outputs": [
        {
          "output_type": "display_data",
          "data": {
            "image/png": "[encoded data removed]",
            "text/plain": [
              "<Figure size 432x288 with 2 Axes>"
            ]
          },
          "metadata": {
            "tags": [],
            "needs_background": "light"
          }
        }
      ]
    },
    {
      "cell_type": "markdown",
      "metadata": {
        "id": "ZsEyPInklh-O",
        "colab_type": "text"
      },
      "source": [
        "При высокой температуре (выше критической) спины в системе разупорядочены, система не обладает намагниченностью."
      ]
    },
    {
      "cell_type": "code",
      "metadata": {
        "id": "UAnD50t8amIA",
        "colab_type": "code",
        "outputId": "924fea1f-3404-41c1-f94a-025051d7dde4",
        "colab": {
          "base_uri": "https://localhost:8080/",
          "height": 270
        }
      },
      "source": [
        "_, ax = plt.subplots(1,3, figsize=(15,3))\n",
        "\n",
        "state = getInitialState(N) # обновим состояние\n",
        "T = 0.5\n",
        "for i in range(eqSteps):\n",
        "  makeFlip(T, state)\n",
        "sns.heatmap(state, xticklabels=False, yticklabels=False, ax=ax[0])\n",
        "ax[0].set_title('T = 0.5')\n",
        "print('Energy: {0}, T = {1}'.format(getEnergy(state), T))\n",
        "\n",
        "state = getInitialState(N)\n",
        "T = 0.1\n",
        "for i in range(eqSteps):\n",
        "  makeFlip(T, state)\n",
        "sns.heatmap(state, xticklabels=False, yticklabels=False, ax=ax[1])\n",
        "ax[1].set_title('T = 0.1')\n",
        "print('Energy: {0}, T = {1}'.format(getEnergy(state), T))\n",
        "\n",
        "state = getInitialState(N)\n",
        "T = 0.01\n",
        "for i in range(eqSteps):\n",
        "  makeFlip(T, state)\n",
        "sns.heatmap(state, xticklabels=False, yticklabels=False, ax=ax[2])\n",
        "ax[2].set_title('T = 0.01')\n",
        "print('Energy: {0}, T = {1}'.format(getEnergy(state), T))\n",
        "\n",
        "plt.show()\n",
        "\n"
      ],
      "execution_count": 0,
      "outputs": [
        {
          "output_type": "stream",
          "text": [
            "Energy: -7812.0, T = 0.5\n",
            "Energy: -7764.0, T = 0.1\n",
            "Energy: -7764.0, T = 0.01\n"
          ],
          "name": "stdout"
        },
        {
          "output_type": "display_data",
          "data": {
            "image/png": "[encoded data removed]",
            "text/plain": [
              "<Figure size 1080x216 with 6 Axes>"
            ]
          },
          "metadata": {
            "tags": [],
            "needs_background": "light"
          }
        }
      ]
    },
    {
      "cell_type": "markdown",
      "metadata": {
        "id": "ys7-dQQEgupV",
        "colab_type": "text"
      },
      "source": [
        "При достаточно низких температурах наблюдается чёткое зонирование системы на участки \"спины вверх\" и \"спины вниз\". Системы обладает намагниченностью в отсутвие внешнего поля."
      ]
    }
  ]
}