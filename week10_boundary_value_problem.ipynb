{
  "nbformat": 4,
  "nbformat_minor": 0,
  "metadata": {
    "kernelspec": {
      "display_name": "Python 3",
      "language": "python",
      "name": "python3"
    },
    "language_info": {
      "codemirror_mode": {
        "name": "ipython",
        "version": 3
      },
      "file_extension": ".py",
      "mimetype": "text/x-python",
      "name": "python",
      "nbconvert_exporter": "python",
      "pygments_lexer": "ipython3",
      "version": "3.7.4"
    },
    "colab": {
      "name": "week_10_boundary_value_problem.ipynb",
      "provenance": [],
      "collapsed_sections": [],
      "include_colab_link": true
    }
  },
  "cells": [
    {
      "cell_type": "markdown",
      "metadata": {
        "id": "view-in-github",
        "colab_type": "text"
      },
      "source": [
        "<a href=\"https://colab.research.google.com/github/molotkova/numerical_analysis/blob/master/week10_boundary_value_problem.ipynb\" target=\"_parent\"><img src=\"https://colab.research.google.com/assets/colab-badge.svg\" alt=\"Open In Colab\"/></a>"
      ]
    },
    {
      "cell_type": "markdown",
      "metadata": {
        "id": "C_aFX-qStuOv",
        "colab_type": "text"
      },
      "source": [
        "# Boundary value problem\n",
        "\n",
        "### In general case:\n",
        "\n",
        "$L[y]=y''+p(x)y+q(x)y=f(x)$\n",
        "\n",
        "$l_a[y]=\\alpha_0y(a)+\\alpha_1y'(a)=A$\n",
        "\n",
        "$l_b[y]=\\beta_0y(b)+\\beta_1y'(b)=B$\n",
        "\n",
        "for $x\\in[a,b]$\n",
        "\n",
        "## 1. Consider the following boundary value problem:\n",
        "\n",
        "$\\frac{d^2y}{dx^2}-\\frac{dy}{dx}\\ln(x)-2y=1$ for $x \\in [0.5,1.5]$\n",
        "\n",
        "### with the boundary conditions:\n",
        "\n",
        "$y(0.5)+y'(0.5)=1$, $y(1.5)-y'(1.5)=0$\n",
        "\n",
        "1.1. Solve this problem using finite difference method of the second order. Use the uniform grid. **Is this method stable for step size $h=0.125$?** Find number of grid points required to achieve accuracy of the order of 1e-4.\n",
        "\n",
        "### *Don't forget to include the boundary conditions!*\n",
        "\n",
        "1.2. Use the first order one-sided numerical approximation for the first derivative and write a new scheme. Find number of grid points required to achieve accuracy of the order of 1e-4.\n",
        "\n",
        "1.3. Plot the solutions of both methods on the same figure. Compare results and discuss differences (if occurs)."
      ]
    },
    {
      "cell_type": "code",
      "metadata": {
        "id": "iQCTa49zcPuJ",
        "colab_type": "code",
        "colab": {}
      },
      "source": [
        "import numpy as np\n",
        "from numpy import linalg as LA\n",
        "import matplotlib.pyplot as plt\n",
        "from scipy.integrate import simps\n",
        "\n",
        "plt.style.use('ggplot')\n",
        "%matplotlib notebook\n",
        "%matplotlib inline"
      ],
      "execution_count": 0,
      "outputs": []
    },
    {
      "cell_type": "code",
      "metadata": {
        "id": "m4VFHGqItuO1",
        "colab_type": "code",
        "colab": {}
      },
      "source": [
        "def SecondOrderScheme(a, b, A, B, alpha, beta, p, q, f, N=100):\n",
        "    # in:\n",
        "    # a,b - float, limits of x, N - int, number of grid points\n",
        "    # A,B - float, boundary values\n",
        "    # alpha, beta - array of float, coefficients for boundary conditions in general case\n",
        "    # p(x), g(x), f(x) - functions from general equation\n",
        "\n",
        "    # you can construct matrix of the system and use scipy.linalg.solve method to solve it: y=solve(M,f)\n",
        "\n",
        "    # out:\n",
        "    # y - array of float, solution of the BVP\n",
        "    nodes = np.linspace(a, b, N + 1)  # N+1 elements in array, index from 0 to N\n",
        "    h = nodes[1] - nodes[0]  # uniform grid\n",
        "\n",
        "    # to solve problem let's construct LES: C*y = b\n",
        "\n",
        "    # C is a tridiagonal coefficient matrix:\n",
        "    upper_diag = 1 / h ** 2 + p(nodes) / (2 * h)  # C[i,i+1]\n",
        "    main_diag = -2 / h ** 2 + q(nodes)  # C[i,i]\n",
        "    lower_diag = 1 / h ** 2 - p(nodes) / (2 * h)  # C [i,i-1]\n",
        "\n",
        "    C = np.diagflat(upper_diag[:N], k=1) + \\\n",
        "        np.diag(main_diag) + np.diagflat(lower_diag[1:], k=-1)\n",
        "\n",
        "    b = f(nodes)\n",
        "\n",
        "    # consider boundary cond. in C matrix & b vector:\n",
        "    C[0, 0] = alpha[0] - 3/2 * alpha[1] / h\n",
        "    C[0, 1] = 2*alpha[1] / h\n",
        "    C[0, 2] = -alpha[1] / (2*h)\n",
        "\n",
        "    b[0] = A\n",
        "\n",
        "    C[N, N] = beta[0] + 3/2 * beta[1]/h\n",
        "    C[N, N-1] = -2 * beta[1]/h\n",
        "    C[N, N-2] = beta[1] / (2*h)\n",
        "\n",
        "    b[N] = B\n",
        "\n",
        "\n",
        "    y = LA.solve(C, b)\n",
        "\n",
        "    return y, nodes\n",
        "\n",
        "def FirstOrderScheme(a, b, A, B, alpha, beta, p, q, f, N=100):\n",
        "    # in:\n",
        "    # a,b - float, limits of x, N - int, number of grid points\n",
        "    # A,B - float, boundary values\n",
        "    # alpha, beta - array of float, coefficients for boundary conditions in general case\n",
        "    # p(x), g(x), f(x) - functions from general equation\n",
        "\n",
        "    # you can construct matrix of the system and use scipy.linalg.solve method to solve it: y=solve(M,f)\n",
        "\n",
        "    # out:\n",
        "    # y - array of float, solution of the BVP\n",
        "\n",
        "    nodes = np.linspace(a, b, N + 1)  # N+1 elements in array, index from 0 to N\n",
        "    h = nodes[1] - nodes[0]  # uniform grid\n",
        "\n",
        "    # to solve problem let's construct LES: C*y = b\n",
        "\n",
        "    # C is a tridiagonal coefficient matrix:\n",
        "\n",
        "    upper_diag = 1 / h ** 2 * np.ones(N + 1)  # C[i,i+1]\n",
        "    main_diag = -2 / h ** 2 + p(nodes) / h + q(nodes)  # C[i,i]\n",
        "    lower_diag = 1 / h ** 2 - p(nodes) / h  # C[i,i-1]\n",
        "\n",
        "    C = np.diagflat(upper_diag[:N], k=1) + \\\n",
        "        np.diag(main_diag) + np.diagflat(lower_diag[1:], k=-1)\n",
        "\n",
        "    # b vector from LSE\n",
        "    b = f(nodes)\n",
        "\n",
        "    # consider boundary cond. in C matrix & b vector:\n",
        "    C[0, 0] = alpha[0] - alpha[1] / h\n",
        "    C[0, 1] = alpha[1] / h\n",
        "\n",
        "    b[0] = A\n",
        "\n",
        "    C[N, N] = beta[0] + beta[1] / h\n",
        "    C[N, N - 1] = -beta[1] / h\n",
        "\n",
        "    b[N] = B\n",
        "\n",
        "    y = LA.solve(C, b)\n",
        "    return y, nodes"
      ],
      "execution_count": 0,
      "outputs": []
    },
    {
      "cell_type": "code",
      "metadata": {
        "id": "tWr-TLz-TDfE",
        "colab_type": "code",
        "colab": {}
      },
      "source": [
        "alpha1 = np.array([1, 1])\n",
        "beta1 = np.array([1, -1])\n",
        "\n",
        "def p1(x):\n",
        "    return -np.log(x)\n",
        "\n",
        "def q1(x):\n",
        "    return -2 * np.ones(len(x))\n",
        "\n",
        "def f1(x):\n",
        "    return np.ones(len(x))"
      ],
      "execution_count": 0,
      "outputs": []
    },
    {
      "cell_type": "code",
      "metadata": {
        "id": "XgjqmDunt7xy",
        "colab_type": "code",
        "outputId": "754a3395-812c-4685-99f7-383167a0d644",
        "colab": {
          "base_uri": "https://localhost:8080/",
          "height": 286
        }
      },
      "source": [
        "# 1.1\n",
        "# try h = 0.125 -> N = (b-a)/h = 8\n",
        "y, nodes = SecondOrderScheme(0.5, 1.5, 1, 0, alpha1, beta1, p1, q1, f1, N=8)\n",
        "\n",
        "plt.figure()\n",
        "plt.plot(nodes, y)"
      ],
      "execution_count": 0,
      "outputs": [
        {
          "output_type": "execute_result",
          "data": {
            "text/plain": [
              "[<matplotlib.lines.Line2D at 0x7f70fc3c63c8>]"
            ]
          },
          "metadata": {
            "tags": []
          },
          "execution_count": 20
        },
        {
          "output_type": "display_data",
          "data": {
            "image/png": "[encoded data removed]",
            "text/plain": [
              "<Figure size 432x288 with 1 Axes>"
            ]
          },
          "metadata": {
            "tags": [],
            "needs_background": "light"
          }
        }
      ]
    },
    {
      "cell_type": "markdown",
      "metadata": {
        "id": "NF-HynGBupCg",
        "colab_type": "text"
      },
      "source": [
        "$h = 0.125$ оказался слишком большим шагом, метод работает нестабильно, решение получили далёкое от реальности. Найдём количество узлов $N$, необходимое для достижения точности 1e-4. *Относительную точность* считаем как максимум ошибки по узлам для решений с $N$ и $2N$ узлов."
      ]
    },
    {
      "cell_type": "code",
      "metadata": {
        "id": "ViUxWqfP2XQA",
        "colab_type": "code",
        "outputId": "e75dedda-8d17-4b01-be6e-b3921fb90c20",
        "colab": {
          "base_uri": "https://localhost:8080/",
          "height": 35
        }
      },
      "source": [
        "N_try = 10\n",
        "y_new = SecondOrderScheme(0.5, 1.5, 1, 0, alpha1, beta1, p1, q1, f1, N=N_try)[0]\n",
        "y_old = np.zeros(6)\n",
        "err = np.max(np.abs(y_old - y_new[::2]))\n",
        "\n",
        "while err > 1e-3:\n",
        "    N_try = 2*N_try\n",
        "    y_old = y_new\n",
        "    y_new = SecondOrderScheme(0.5, 1.5, 1, 0, alpha1, beta1, p1, q1, f1, N=N_try)[0]\n",
        "    err = np.max(np.abs(y_old - y_new[::2]))\n",
        "\n",
        "print('Error: {0}, N = {1}'. format(err, N_try))"
      ],
      "execution_count": 0,
      "outputs": [
        {
          "output_type": "stream",
          "text": [
            "Error: 0.0006803735453146942, N = 1280\n"
          ],
          "name": "stdout"
        }
      ]
    },
    {
      "cell_type": "code",
      "metadata": {
        "id": "RWxUwSWW5Bdd",
        "colab_type": "code",
        "outputId": "1efd22ee-5773-4abe-fd67-a0a179fe3853",
        "colab": {
          "base_uri": "https://localhost:8080/",
          "height": 35
        }
      },
      "source": [
        "# 1.2\n",
        "N_try = 10\n",
        "y_new = FirstOrderScheme(0.5, 1.5, 1, 0, alpha1, beta1, p1, q1, f1, N=N_try)[0]\n",
        "y_old = np.zeros(6)\n",
        "err = np.max(np.abs(y_old - y_new[::2]))\n",
        "\n",
        "while err > 1e-1:\n",
        "    N_try = 2*N_try\n",
        "    y_old = y_new\n",
        "    y_new = FirstOrderScheme(0.5, 1.5, 1, 0, alpha1, beta1, p1, q1, f1, N=N_try)[0]\n",
        "    err = np.max(np.abs(y_old - y_new[::2]))\n",
        "\n",
        "print('Error: {0}, N = {1}'. format(err, N_try))"
      ],
      "execution_count": 0,
      "outputs": [
        {
          "output_type": "stream",
          "text": [
            "Error: 0.09860664034966682, N = 2560\n"
          ],
          "name": "stdout"
        }
      ]
    },
    {
      "cell_type": "markdown",
      "metadata": {
        "id": "80LiPLSHC5jW",
        "colab_type": "text"
      },
      "source": [
        "В схеме с односторонней производной удаётся доползти до точности порядка 1e-2. Большей точности достигнуть не удалось. Вероятно это связано с тем, что в методе односторенней производной ошибка $\\sim h$."
      ]
    },
    {
      "cell_type": "code",
      "metadata": {
        "id": "nE2SvP5jThdB",
        "colab_type": "code",
        "outputId": "ee9e3f04-f467-434a-f151-6794176a2564",
        "colab": {
          "base_uri": "https://localhost:8080/",
          "height": 283
        }
      },
      "source": [
        "# 1.3\n",
        "solution_scnd, grid_scnd = SecondOrderScheme(0.5, 1.5, 1, 0, alpha1, beta1, p1, q1, f1, N=1280)\n",
        "solution_frst, grid_frst = FirstOrderScheme(0.5, 1.5, 1, 0, alpha1, beta1, p1, q1, f1, N=2560)\n",
        "\n",
        "plt.figure()\n",
        "plt.plot(grid_scnd, solution_scnd, label='Second order scheme')\n",
        "plt.plot(grid_frst, solution_frst, label='First order scheme')\n",
        "plt.legend()"
      ],
      "execution_count": 0,
      "outputs": [
        {
          "output_type": "execute_result",
          "data": {
            "text/plain": [
              "<matplotlib.legend.Legend at 0x7f303cb7d080>"
            ]
          },
          "metadata": {
            "tags": []
          },
          "execution_count": 9
        },
        {
          "output_type": "display_data",
          "data": {
            "image/png": "[encoded data removed]",
            "text/plain": [
              "<Figure size 432x288 with 1 Axes>"
            ]
          },
          "metadata": {
            "tags": [],
            "needs_background": "light"
          }
        }
      ]
    },
    {
      "cell_type": "markdown",
      "metadata": {
        "id": "RGV2ghmUFkYJ",
        "colab_type": "text"
      },
      "source": [
        "Точность порядка 1e-2 в методе FirstOrderScheme() достигается на сетке в *два раза* большей чем в методе SecondOrderScheme(), причём во втором случае точность уже порядка 1e-4. Метод с использованием односторонней производной, FirstOrderScheme(), даёт очень грубую оценку решения уравнения. Метод с двусторонней производной, SecondOrderScheme(), решает задачу лучше. "
      ]
    },
    {
      "cell_type": "markdown",
      "metadata": {
        "id": "GmXkGacwtuPI",
        "colab_type": "text"
      },
      "source": [
        "# 2. Consider the following boundary value problem:\n",
        "\n",
        "$\\frac{d^2y}{dx^2}+2\\frac{dy}{dx}-3xy=\\frac{2-8x}{x^3}$ for $x \\in [1,2]$\n",
        "\n",
        "### with the boundary conditions:\n",
        "\n",
        "$y(1)=1$, $y(2)=0.5$\n",
        "\n",
        "2.1. Solve this problem using finite difference method of the second order. Find number of grid points required to achieve accuracy of the order of 1e-6.\n",
        "\n",
        "2.2. Solve this problem using Galerkin method with power basis functions. Find number of grid points required to achieve accuracy of the order of 1e-6.\n",
        "\n",
        "2.3. Plot the solutions of both methods on the same figure. Compare results and discuss differences (if occurs)."
      ]
    },
    {
      "cell_type": "code",
      "metadata": {
        "id": "TXrYpvcDtuPM",
        "colab_type": "code",
        "colab": {}
      },
      "source": [
        "def p2(x):\n",
        "    return 2*np.ones(len(x))\n",
        "\n",
        "def q2(x):\n",
        "    return -3 * x\n",
        "\n",
        "def f2(x):\n",
        "    return (2 - 8*x) / x**3\n",
        "\n",
        "alpha2 = np.array([1, 0])\n",
        "beta2 = np.array([1, 0])"
      ],
      "execution_count": 0,
      "outputs": []
    },
    {
      "cell_type": "code",
      "metadata": {
        "id": "ywcM5HfDH_P_",
        "colab_type": "code",
        "outputId": "74ae18ab-d14a-4934-a641-cb507cf3ac09",
        "colab": {
          "base_uri": "https://localhost:8080/",
          "height": 35
        }
      },
      "source": [
        "# 2.1\n",
        "N_try = 10\n",
        "y_new = SecondOrderScheme(1, 2, 1, 0.5, alpha2, beta2, p2, q2, f2, N=N_try)[0]\n",
        "y_old = np.zeros(6)\n",
        "err = np.max(np.abs(y_old - y_new[::2]))\n",
        "\n",
        "while err > 1e-5:\n",
        "    N_try = 2*N_try\n",
        "    y_old = y_new\n",
        "    y_new = SecondOrderScheme(1, 2, 1, 0.5, alpha2, beta2, p2, q2, f2, N=N_try)[0]\n",
        "    err = np.max(np.abs(y_old - y_new[::2]))\n",
        "\n",
        "print('Error: {0}, N = {1}'. format(err, N_try))"
      ],
      "execution_count": 0,
      "outputs": [
        {
          "output_type": "stream",
          "text": [
            "Error: 2.526021473103768e-06, N = 160\n"
          ],
          "name": "stdout"
        }
      ]
    },
    {
      "cell_type": "markdown",
      "metadata": {
        "id": "N20Mtsqn3VsN",
        "colab_type": "text"
      },
      "source": [
        "Нужная относительная точность достигается довольно быстро на сетке с $N=160$."
      ]
    },
    {
      "cell_type": "code",
      "metadata": {
        "id": "1f4ss6kThjjZ",
        "colab_type": "code",
        "outputId": "b1512727-b3bf-4ef0-86b9-e10d14dae285",
        "colab": {
          "base_uri": "https://localhost:8080/",
          "height": 283
        }
      },
      "source": [
        "solution, nodes = \\\n",
        "    SecondOrderScheme(1, 2, 1, 0.5, alpha2, beta2, p2, q2, f2, N=160)\n",
        "y_scndorder, nodes_scndorder = solution, nodes\n",
        "plt.figure()\n",
        "plt.plot(nodes, solution)"
      ],
      "execution_count": 0,
      "outputs": [
        {
          "output_type": "execute_result",
          "data": {
            "text/plain": [
              "[<matplotlib.lines.Line2D at 0x7f70fc3a4898>]"
            ]
          },
          "metadata": {
            "tags": []
          },
          "execution_count": 24
        },
        {
          "output_type": "display_data",
          "data": {
            "image/png": "[encoded data removed]",
            "text/plain": [
              "<Figure size 432x288 with 1 Axes>"
            ]
          },
          "metadata": {
            "tags": [],
            "needs_background": "light"
          }
        }
      ]
    },
    {
      "cell_type": "markdown",
      "metadata": {
        "id": "fhxG1fCMgrf2",
        "colab_type": "text"
      },
      "source": [
        "##Galerkin method\n",
        "###Main idea:\n",
        "\n",
        "1. Chose set of basis functions $\\phi_i$ and \n",
        "$y_n(x)=\\phi_0+\\sum_{j=1}^n c_i\\phi_i(x)$\n",
        "2. Initial equation: $Ly_n=f \\; \\rightarrow$ system $L\\left(\\sum_{i=1}^m c_i \\phi_i \\right) = f -L(\\phi_0)$\n",
        "$L(\\phi_0)=\\phi_0''+p(x)\\phi_0'+q(x)\\phi_0$\n",
        "\n",
        "$\\sum_j^n (L\\phi_j,\\phi_i) c_j=(f,\\phi_i) \\; \\rightarrow \\sum_j M_{ij}c_j = d_i$\n",
        "\n",
        "where $M_{ij}=(L\\phi_j,\\phi_i)$, $b_i=(f,\\phi_i)$\n",
        "\n",
        "and boundary conditions:\n",
        "\n",
        "$l_a(\\phi_0)=A$, $l_a(\\phi_i)=0$, $\\forall i>0$\n",
        "\n",
        "$l_b(\\phi_0)=B$, $l_a(\\phi_i)=0$, $\\forall i>0$\n"
      ]
    },
    {
      "cell_type": "markdown",
      "metadata": {
        "id": "EQqjvg5CigXH",
        "colab_type": "text"
      },
      "source": [
        "###Let's try the following base functions:\n",
        "\n",
        "$\\phi_0 = 1/x$\n",
        "\n",
        "$\\phi_k = (2-x)\\cdot(1-x)^k$"
      ]
    },
    {
      "cell_type": "code",
      "metadata": {
        "id": "GgMAzV-8gj7i",
        "colab_type": "code",
        "colab": {}
      },
      "source": [
        "# there we define base functions\n",
        "def phi0(x):\n",
        "    return 1/x\n",
        "\n",
        "def dphi0(x):\n",
        "    return -1/x**2\n",
        "\n",
        "def ddphi0(x):\n",
        "    return 2/x**3\n",
        "\n",
        "def phi(k, x):\n",
        "    return (2-x)*(1-x)**k\n",
        "\n",
        "def dphi(k, x):\n",
        "    return (1-x)**(k-1) * (-1 + x + k*(x-2))\n",
        "\n",
        "def ddphi(k, x):\n",
        "    return -k*(1-x)**(k-2) * (k*(x-2) + x)"
      ],
      "execution_count": 0,
      "outputs": []
    },
    {
      "cell_type": "code",
      "metadata": {
        "id": "t2XoGgNMjqlt",
        "colab_type": "code",
        "outputId": "60c4d2bf-8157-4369-a8d6-0d9bef7fd9ec",
        "colab": {
          "base_uri": "https://localhost:8080/",
          "height": 88
        }
      },
      "source": [
        "# 2.2\n",
        "N = 100\n",
        "a, b = 1, 2\n",
        "nodes = np.linspace(a, b, N)\n",
        "\n",
        "def Galerkin(Np):\n",
        "\n",
        "    # construct M matrix and d vector:\n",
        "    M = np.zeros([Np, Np])\n",
        "    d = np.zeros(Np)\n",
        "    x = nodes[1:-1]\n",
        "    for i in range(Np):\n",
        "        d[i] = simps((f2(x) - ddphi0(x) - p2(x) * dphi0(x) - q2(x) * phi0(x)) * phi(i, x), x=x)\n",
        "        for j in range(Np):\n",
        "            M[i, j] = simps((ddphi(j+1, x) + p2(x) * dphi(j+1, x) + q2(x) * phi(j+1, x)) * phi(i, x), x=x)\n",
        "            # print(i, 'row', j, 'col')\n",
        "\n",
        "    # solve LES M*coeff = d to find Galerkin coefficients\n",
        "    coeff = LA.solve(M, d)\n",
        "\n",
        "    # get the solution\n",
        "    y = phi0(nodes)\n",
        "    for j in range(Np):\n",
        "        y += coeff[j] * phi(j+1, nodes)\n",
        "    return y\n",
        "\n",
        "# let's find the M matrix size to the desired precision 1e-6\n",
        "Np_try = 4\n",
        "y_new = Galerkin(Np_try)\n",
        "err = 1\n",
        "\n",
        "while err > 1e-5:\n",
        "    Np_try = Np_try + 1\n",
        "    y_old = y_new\n",
        "    y_new = Galerkin(Np_try)\n",
        "    err = LA.norm(y_old-y_new)\n",
        "    print('Error: {0}, N = {1}'. format(err, Np_try))\n",
        "\n",
        "y_galerkin = y_new\n",
        "nodes_galerkin = nodes"
      ],
      "execution_count": 0,
      "outputs": [
        {
          "output_type": "stream",
          "text": [
            "Error: 0.0026365688040865154, N = 5\n",
            "Error: 0.0003257801118421749, N = 6\n",
            "Error: 3.587195408880461e-05, N = 7\n",
            "Error: 4.350178473919616e-06, N = 8\n"
          ],
          "name": "stdout"
        }
      ]
    },
    {
      "cell_type": "markdown",
      "metadata": {
        "id": "OGvyPIbC3rDW",
        "colab_type": "text"
      },
      "source": [
        "Относительная точность 1e-6 достигается при аппроксимации решения примерно 8-ю базисными полиномами."
      ]
    },
    {
      "cell_type": "code",
      "metadata": {
        "id": "9k1sysaPluDq",
        "colab_type": "code",
        "outputId": "bd3616b1-fc53-4e15-f68d-5e35d56cea61",
        "colab": {
          "base_uri": "https://localhost:8080/",
          "height": 283
        }
      },
      "source": [
        "plt.figure()\n",
        "plt.plot(nodes, y_galerkin)"
      ],
      "execution_count": 0,
      "outputs": [
        {
          "output_type": "execute_result",
          "data": {
            "text/plain": [
              "[<matplotlib.lines.Line2D at 0x7f70fc2feef0>]"
            ]
          },
          "metadata": {
            "tags": []
          },
          "execution_count": 27
        },
        {
          "output_type": "display_data",
          "data": {
            "image/png": "[encoded data removed]",
            "text/plain": [
              "<Figure size 432x288 with 1 Axes>"
            ]
          },
          "metadata": {
            "tags": [],
            "needs_background": "light"
          }
        }
      ]
    },
    {
      "cell_type": "code",
      "metadata": {
        "id": "3bpUR9lAmV9s",
        "colab_type": "code",
        "outputId": "c48e01c3-f021-44de-e9d7-f44992280b3f",
        "colab": {
          "base_uri": "https://localhost:8080/",
          "height": 283
        }
      },
      "source": [
        "# 2.3\n",
        "plt.figure()\n",
        "plt.plot(nodes_galerkin, y_galerkin, label='Galerkin method')\n",
        "plt.plot(nodes_scndorder, y_scndorder, label='Second order scheme')\n",
        "plt.legend()"
      ],
      "execution_count": 0,
      "outputs": [
        {
          "output_type": "execute_result",
          "data": {
            "text/plain": [
              "<matplotlib.legend.Legend at 0x7f70fc2f00b8>"
            ]
          },
          "metadata": {
            "tags": []
          },
          "execution_count": 28
        },
        {
          "output_type": "display_data",
          "data": {
            "image/png": "[encoded data removed]",
            "text/plain": [
              "<Figure size 432x288 with 1 Axes>"
            ]
          },
          "metadata": {
            "tags": [],
            "needs_background": "light"
          }
        }
      ]
    },
    {
      "cell_type": "markdown",
      "metadata": {
        "id": "19SptArj4Ixu",
        "colab_type": "text"
      },
      "source": [
        "Оба метода довольно быстро сходятся к одному решению.\n",
        "\n",
        "Что об этом думает вольфрам: https://drive.google.com/file/d/1JkA8ob0dJ3Zcy1woZHldpqv8w2ac7l1I/view?usp=sharing\n",
        "\n",
        "Из графиков видно, что полученные решения довольно хорошо описывают реальность, если ею считать вольфрам :)"
      ]
    }
  ]
}